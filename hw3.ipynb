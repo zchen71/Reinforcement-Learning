{
 "cells": [
  {
   "cell_type": "code",
   "execution_count": 1232,
   "metadata": {},
   "outputs": [],
   "source": [
    "gamma=1\n",
    "alpha=0.25\n",
    "epsilon=0.29\n",
    "n_episodes=14697\n",
    "seed=741684\n",
    "amap = [\n",
    "        \"SFFF\",\n",
    "        \"HFFF\",\n",
    "        \"FFFF\",\n",
    "        \"FFFG\"\n",
    "    ]"
   ]
  },
  {
   "cell_type": "code",
   "execution_count": 1283,
   "metadata": {},
   "outputs": [],
   "source": [
    "gamma=0.91\n",
    "alpha=0.12\n",
    "epsilon=0.13\n",
    "n_episodes=42271\n",
    "seed=983459\n",
    "amap = [\n",
    "        \"SFFFF\",\n",
    "        \"HFFFF\",\n",
    "        \"FFFFF\",\n",
    "        \"FFFFF\",\n",
    "        \"FFFFG\"\n",
    "    ]"
   ]
  },
  {
   "cell_type": "code",
   "execution_count": 1344,
   "metadata": {},
   "outputs": [],
   "source": [
    "amap=[\"SF\",\"FG\"]\n",
    "gamma=0.97\n",
    "alpha=0.23\n",
    "epsilon=0.05\n",
    "n_episodes=19996\n",
    "seed=546711"
   ]
  },
  {
   "cell_type": "code",
   "execution_count": 1345,
   "metadata": {},
   "outputs": [],
   "source": [
    "class SarsaAgent(object):\n",
    "    def __init__(self,observation_space,action_space):\n",
    "        self.observation_space = observation_space\n",
    "        self.action_space = action_space\n",
    "        self.observation_n = observation_space.n\n",
    "        self.action_n = action_space.n\n",
    "        self.config = {\"learning_rate\": alpha, \"eps\": epsilon, \"discount\": gamma, \"n_ite\": 100000}\n",
    "        self.q = np.reshape(np.zeros((self.observation_n*self.action_n,1)),(self.observation_n,self.action_n))\n",
    "        \n",
    "    def act(self,observation,eps = None):\n",
    "        eps = self.config[\"eps\"]\n",
    "        if np.random.random()>eps:\n",
    "            action = np.argmax(self.q[observation])\n",
    "        else:\n",
    "            action = np.random.randint(4)#self.action_space.sample()\n",
    "        return action\n",
    "    \n",
    "    def learn(self,env):\n",
    "        obs = env.reset()\n",
    "        action = self.act(obs)\n",
    "        t = 0\n",
    "        while True:\n",
    "            t = t+1\n",
    "            obs_next, reward, done, _ = env.step(action)\n",
    "            action_next = self.act(obs_next)\n",
    "            if done:\n",
    "                next_reward = self.q[obs_next][action_next]\n",
    "                if next_reward != 0:\n",
    "                    env.render()\n",
    "                    print(t)\n",
    "                    print('action',action)\n",
    "                    print('action_next',action_next)\n",
    "                    print(obs)\n",
    "                    print(next_reward)\n",
    "                    print(obs_next)\n",
    "                    print(reward)\n",
    "                self.q[obs][action] = self.q[obs][action] + self.config[\"learning_rate\"]*(reward + self.config[\"discount\"]*next_reward-self.q[obs][action])\n",
    "                break;\n",
    "            else:\n",
    "                next_reward = self.q[obs_next][action_next]\n",
    "                self.q[obs][action] = self.q[obs][action] + self.config[\"learning_rate\"]*(reward + self.config[\"discount\"]*next_reward-self.q[obs][action])\n",
    "                obs = obs_next\n",
    "                action = action_next\n",
    "#             if not done:\n",
    "#                 action_next = self.act(obs_next)\n",
    "#                 next_reward = self.q[obs_next][action_next]\n",
    "#                 self.q[obs][action] = self.q[obs][action] + self.config[\"learning_rate\"]*(reward + self.config[\"discount\"]*next_reward-self.q[obs][action])\n",
    "#                 obs = obs_next\n",
    "#                 action = action_next\n",
    "#             else:\n",
    "#                 next_reward = 0\n",
    "#                 self.q[obs][action] = self.q[obs][action] + self.config[\"learning_rate\"]*(reward + self.config[\"discount\"]*next_reward-self.q[obs][action])\n",
    "#                 break;\n",
    "\n",
    "        \n",
    "        "
   ]
  },
  {
   "cell_type": "code",
   "execution_count": 1346,
   "metadata": {},
   "outputs": [],
   "source": [
    "#env = FrozenLakeEnv(map_name=map_name)\n",
    "import gym\n",
    "import numpy as np\n",
    "gym.envs.toy_text.frozen_lake.FrozenLakeEnv().unwrapped\n",
    "env = gym.make(\"FrozenLake-v0\",desc = amap).unwrapped\n",
    "\n",
    "env.seed(seed) \n",
    "np.random.seed(seed)\n",
    "sarsa_agent = SarsaAgent(env.observation_space, env.action_space)\n",
    "for i in range(n_episodes):\n",
    "    sarsa_agent.learn(env)"
   ]
  },
  {
   "cell_type": "code",
   "execution_count": 1347,
   "metadata": {},
   "outputs": [
    {
     "name": "stdout",
     "output_type": "stream",
     "text": [
      "[2 2 1 0]\n"
     ]
    }
   ],
   "source": [
    "result = np.argmax(sarsa_agent.q,axis = 1)\n",
    "print(result)"
   ]
  },
  {
   "cell_type": "code",
   "execution_count": 1348,
   "metadata": {},
   "outputs": [
    {
     "name": "stdout",
     "output_type": "stream",
     "text": [
      "['>', '>', 'v', '<']\n"
     ]
    }
   ],
   "source": [
    "results=list()\n",
    "for i in range(len(result)):\n",
    "    if result[i] == 0:\n",
    "        results.append(\"<\")\n",
    "    elif result[i] == 1:\n",
    "        results.append(\"v\")\n",
    "    elif result[i] == 2:\n",
    "        results.append(\">\")\n",
    "    else:\n",
    "        results.append(\"^\")\n",
    "print(results)"
   ]
  },
  {
   "cell_type": "code",
   "execution_count": null,
   "metadata": {},
   "outputs": [],
   "source": []
  }
 ],
 "metadata": {
  "kernelspec": {
   "display_name": "Python 3",
   "language": "python",
   "name": "python3"
  },
  "language_info": {
   "codemirror_mode": {
    "name": "ipython",
    "version": 3
   },
   "file_extension": ".py",
   "mimetype": "text/x-python",
   "name": "python",
   "nbconvert_exporter": "python",
   "pygments_lexer": "ipython3",
   "version": "3.7.4"
  }
 },
 "nbformat": 4,
 "nbformat_minor": 4
}
